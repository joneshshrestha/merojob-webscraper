{
 "cells": [
  {
   "cell_type": "code",
   "execution_count": null,
   "metadata": {},
   "outputs": [],
   "source": []
  },
  {
   "cell_type": "code",
   "execution_count": 71,
   "metadata": {},
   "outputs": [
    {
     "name": "stdout",
     "output_type": "stream",
     "text": [
      "Job Title: Software Developer\n",
      "Company Name: Codewarelab.com\n",
      "Skills Required: ['.Net', 'Java', 'Aws Services', 'Asp.Net', 'Python', 'Mobile Application']\n",
      "More Info: https://merojob.com/software-developer-129/\n",
      "\n",
      "Job Title: React Native Developer\n",
      "Company Name: Silk Innovation\n",
      "Skills Required: ['Software Development', 'Restful Apis', 'React Native', 'Javascript']\n",
      "More Info: https://merojob.com/react-native-developer-27/\n",
      "\n",
      "Job Title: Jr. Software Developer\n",
      "Company Name: Kantipur IT\n",
      "Skills Required: ['Html', 'Software Development', 'Communication', 'Ado.Net', 'Asp.Net']\n",
      "More Info: https://merojob.com/jr-software-developer-6/\n",
      "\n",
      "Job Title: Jr. Laravel Developer\n",
      "Company Name: Remote Coach\n",
      "Skills Required: ['Decision Making', 'Problem Solving', 'Php', 'Html', 'Css']\n",
      "More Info: https://merojob.com/jr-laravel-developer-work-from-home/\n",
      "\n",
      "Job Title: .NET Developer\n",
      "Company Name: Sarvanam Software\n",
      "Skills Required: ['Html', 'Css', 'Javascript', 'Windows Server']\n",
      "More Info: https://merojob.com/net-developer-57/\n",
      "\n",
      "Job Title: Dot Net Developer\n",
      "Company Name: Executive Search- merojob\n",
      "Skills Required: ['Dot Net', 'Producing Code Using .Net (C#)', 'Sql Server', 'Classic Asp', 'Asp.Net']\n",
      "More Info: https://merojob.com/dot-net-developer-61/\n",
      "\n"
     ]
    }
   ],
   "source": [
    "import requests\n",
    "from bs4 import BeautifulSoup\n",
    "\n",
    "\n",
    "response = requests.get('https://merojob.com/search/?q=developer').text\n",
    "soup = BeautifulSoup(response, 'lxml')\n",
    "jobs = soup.find_all('div', class_ = \"card mt-3 hover-shadow\")\n",
    "for job in jobs:\n",
    "    job_title = job.find('a', class_ = 'no-uline').text.strip()\n",
    "    company_name = job.find('h3', class_ = \"h6\").text.strip()\n",
    "    print(f\"Job Title: {job_title}\")\n",
    "    print(f\"Company Name: {company_name}\")\n",
    "    skills = job.find_all('span', class_ = \"badge badge-pill badge-white text-muted\")\n",
    "    allSkill = []\n",
    "    for skill in skills:\n",
    "        allSkill.append(skill.text)\n",
    "    print(f\"Skills Required: {allSkill}\")\n",
    "    more_info = job.h1.a['href']\n",
    "    print(f\"More Info: https://merojob.com{more_info}\")\n",
    "    print('')"
   ]
  },
  {
   "cell_type": "code",
   "execution_count": 49,
   "metadata": {},
   "outputs": [
    {
     "ename": "IndentationError",
     "evalue": "unexpected indent (<ipython-input-49-a6f7cb13bd8e>, line 2)",
     "output_type": "error",
     "traceback": [
      "\u001b[0;36m  File \u001b[0;32m\"<ipython-input-49-a6f7cb13bd8e>\"\u001b[0;36m, line \u001b[0;32m2\u001b[0m\n\u001b[0;31m    for skill in skills:\u001b[0m\n\u001b[0m    ^\u001b[0m\n\u001b[0;31mIndentationError\u001b[0m\u001b[0;31m:\u001b[0m unexpected indent\n"
     ]
    }
   ],
   "source": [
    "allSkill = []\n",
    "    for skill in skills:\n",
    "        allSkill.append(skill.text)\n",
    "    for i in allSkill:\n",
    "        print(i, end = '')\n",
    "    print('')"
   ]
  },
  {
   "cell_type": "code",
   "execution_count": null,
   "metadata": {},
   "outputs": [],
   "source": []
  },
  {
   "cell_type": "code",
   "execution_count": null,
   "metadata": {},
   "outputs": [],
   "source": []
  },
  {
   "cell_type": "code",
   "execution_count": null,
   "metadata": {},
   "outputs": [],
   "source": []
  },
  {
   "cell_type": "code",
   "execution_count": null,
   "metadata": {},
   "outputs": [],
   "source": []
  }
 ],
 "metadata": {
  "kernelspec": {
   "display_name": "Python 3",
   "language": "python",
   "name": "python3"
  },
  "language_info": {
   "codemirror_mode": {
    "name": "ipython",
    "version": 3
   },
   "file_extension": ".py",
   "mimetype": "text/x-python",
   "name": "python",
   "nbconvert_exporter": "python",
   "pygments_lexer": "ipython3",
   "version": "3.8.5"
  }
 },
 "nbformat": 4,
 "nbformat_minor": 4
}
