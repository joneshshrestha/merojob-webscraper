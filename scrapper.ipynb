{
 "cells": [
  {
   "cell_type": "code",
   "execution_count": null,
   "metadata": {},
   "outputs": [],
   "source": [
    "import requests\n",
    "from bs4 import BeautifulSoup\n",
    "\n",
    "\n",
    "response = requests.get('https://merojob.com/search/?q=developer').text\n",
    "soup = BeautifulSoup(response, 'lxml')\n",
    "jobs = soup.find_all('div', class_ = \"card mt-3 hover-shadow\")\n",
    "for job in jobs:\n",
    "    job_title = job.find('a', class_ = 'no-uline').text.strip()\n",
    "    company_name = job.find('h3', class_ = \"h6\").text.strip()\n",
    "    print(f\"Job Title: {job_title}\")\n",
    "    print(f\"Company Name: {company_name}\")\n",
    "    skills = job.find_all('span', class_ = \"badge badge-pill badge-white text-muted\")\n",
    "    allSkill = []\n",
    "    for skill in skills:\n",
    "        allSkill.append(skill.text)\n",
    "    print(f\"Skills Required: {allSkill}\")\n",
    "    more_info = job.h1.a['href']\n",
    "    print(f\"More Info: https://merojob.com{more_info}\")\n",
    "    print('')"
   ]
  }
 ],
 "metadata": {
  "kernelspec": {
   "display_name": "Python 3",
   "language": "python",
   "name": "python3"
  },
  "language_info": {
   "codemirror_mode": {
    "name": "ipython",
    "version": 3
   },
   "file_extension": ".py",
   "mimetype": "text/x-python",
   "name": "python",
   "nbconvert_exporter": "python",
   "pygments_lexer": "ipython3",
   "version": "3.8.5"
  }
 },
 "nbformat": 4,
 "nbformat_minor": 4
}
